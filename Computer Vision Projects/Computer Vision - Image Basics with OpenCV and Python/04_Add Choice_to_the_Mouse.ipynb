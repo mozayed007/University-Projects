{
 "cells": [
  {
   "cell_type": "code",
   "execution_count": 15,
   "metadata": {},
   "outputs": [],
   "source": [
    "# Import Libraries\n",
    "\n",
    "import cv2\n",
    "import numpy as np\n",
    "\n",
    "# Function\n",
    "# x,y, flags, param are feed from OpenCV automaticaly\n",
    "def draw_circle(event, x , y , flags, param):\n",
    "    # Left Button Down\n",
    "     if event == cv2.EVENT_LBUTTONDOWN:\n",
    "        cv2.circle(img,(x,y),100,(75,131,251),-1)\n",
    "    # Right Button Down\n",
    "     elif event == cv2.EVENT_RBUTTONDOWN:\n",
    "        cv2.circle(img,(x,y),50,(200,131,112),-1)\n",
    "\n",
    "# Connect the Function with the Callback\n",
    "cv2.namedWindow(winname='my_draw')\n",
    "\n",
    "\n",
    "# Callback\n",
    "cv2.setMouseCallback('my_draw', draw_circle)\n",
    "\n",
    "# Using OpenCV to show the Image\n",
    "img = np.zeros((512,512,3), np.int8)\n",
    "\n",
    "while True :\n",
    "    cv2.imshow('my_draw', img )\n",
    "    if cv2.waitKey(5) & 0xFF == ord('q'):\n",
    "            break\n",
    "        \n",
    "cv2.destroyAllWindows()        \n",
    "\n"
   ]
  },
  {
   "cell_type": "code",
   "execution_count": null,
   "metadata": {},
   "outputs": [],
   "source": []
  }
 ],
 "metadata": {
  "kernelspec": {
   "display_name": "Python 3",
   "language": "python",
   "name": "python3"
  },
  "language_info": {
   "codemirror_mode": {
    "name": "ipython",
    "version": 3
   },
   "file_extension": ".py",
   "mimetype": "text/x-python",
   "name": "python",
   "nbconvert_exporter": "python",
   "pygments_lexer": "ipython3",
   "version": "3.7.4"
  }
 },
 "nbformat": 4,
 "nbformat_minor": 4
}
